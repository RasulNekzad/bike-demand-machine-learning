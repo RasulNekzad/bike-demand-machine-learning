{
 "cells": [
  {
   "cell_type": "markdown",
   "id": "43b9702f",
   "metadata": {},
   "source": [
    "# Introducing the Data Used for Training and Testing the Model"
   ]
  },
  {
   "cell_type": "code",
   "execution_count": 2,
   "id": "aa628ea0",
   "metadata": {},
   "outputs": [],
   "source": [
    "import pandas as pd\n",
    "from sklearn.tree import DecisionTreeClassifier\n",
    "import time \n",
    "from datetime import datetime\n",
    "\n",
    "train = pd.read_csv('train.csv')\n",
    "test = pd.read_csv('test.csv')"
   ]
  },
  {
   "cell_type": "markdown",
   "id": "f186342b",
   "metadata": {},
   "source": [
    "# Converting Datetime Data to Timestamp Form"
   ]
  },
  {
   "cell_type": "code",
   "execution_count": 3,
   "id": "ec620034",
   "metadata": {},
   "outputs": [
    {
     "name": "stdout",
     "output_type": "stream",
     "text": [
      "[1293858000.0, 1293861600.0, 1293865200.0, 1293868800.0, 1293872400.0, 1293876000.0, 1293879600.0, 1293883200.0, 1293886800.0, 1293890400.0, 1293894000.0, 1293897600.0, 1293901200.0, 1293904800.0, 1293908400.0, 1293912000.0, 1293915600.0, 1293919200.0, 1293922800.0, 1293926400.0, 1293930000.0, 1293933600.0, 1293937200.0, 1293940800.0, 1293944400.0, 1293948000.0, 1293951600.0, 1293955200.0, 1293958800.0, 1293966000.0, 1293969600.0, 1293973200.0, 1293976800.0, 1293980400.0, 1293984000.0, 1293987600.0, 1293991200.0, 1293994800.0, 1293998400.0, 1294002000.0, 1294005600.0, 1294009200.0, 1294012800.0, 1294016400.0, 1294020000.0, 1294023600.0, 1294027200.0, 1294030800.0, 1294034400.0, 1294045200.0, 1294048800.0, 1294052400.0, 1294056000.0, 1294059600.0, 1294063200.0, 1294066800.0, 1294070400.0, 1294074000.0, 1294077600.0, 1294081200.0, 1294084800.0, 1294088400.0, 1294092000.0, 1294095600.0, 1294099200.0, 1294102800.0, 1294106400.0, 1294110000.0, 1294113600.0, 1294117200.0, 1294120800.0, 1294124400.0, 1294131600.0, 1294135200.0, 1294138800.0, 1294142400.0, 1294146000.0, 1294149600.0, 1294153200.0, 1294156800.0, 1294160400.0, 1294164000.0, 1294167600.0, 1294171200.0, 1294174800.0, 1294178400.0, 1294182000.0, 1294185600.0, 1294189200.0, 1294192800.0, 1294196400.0, 1294200000.0, 1294203600.0, 1294207200.0, 1294210800.0, 1294218000.0, 1294221600.0, 1294225200.0, 1294228800.0, 1294232400.0]\n"
     ]
    }
   ],
   "source": [
    "# Model doesn't accept string data to be fed into it so datetime information needs to be converted.\n",
    "\n",
    "timestampListTRAIN = []\n",
    "for i in train['datetime']:\n",
    "    # Convert current iteration of row value for column, represented by i into a\n",
    "    # time_struct type, because time.mktime(#PARAM) requires PARAM to be a time_struct\n",
    "    ts = time.strptime(i, \"%Y-%m-%d %H:%M:%S\")\n",
    "    # Convert the time_struct above into a timestamp and store in list\n",
    "    timestampListTRAIN.append(time.mktime(ts))\n",
    "print(timestampListTRAIN[0:100])"
   ]
  },
  {
   "cell_type": "markdown",
   "id": "be9e0569",
   "metadata": {},
   "source": [
    "## Repeating the conversion process for test data."
   ]
  },
  {
   "cell_type": "code",
   "execution_count": 4,
   "id": "6eaa12f8",
   "metadata": {},
   "outputs": [
    {
     "name": "stdout",
     "output_type": "stream",
     "text": [
      "[1295499600.0, 1295503200.0, 1295506800.0, 1295510400.0, 1295514000.0, 1295517600.0, 1295521200.0, 1295524800.0, 1295528400.0, 1295532000.0, 1295535600.0, 1295539200.0, 1295542800.0, 1295546400.0, 1295550000.0, 1295553600.0, 1295557200.0, 1295560800.0, 1295564400.0, 1295568000.0, 1295571600.0, 1295575200.0, 1295578800.0, 1295582400.0, 1295586000.0, 1295589600.0, 1295593200.0, 1295596800.0, 1295600400.0, 1295604000.0, 1295607600.0, 1295611200.0, 1295614800.0, 1295618400.0, 1295622000.0, 1295625600.0, 1295629200.0, 1295632800.0, 1295636400.0, 1295640000.0, 1295643600.0, 1295647200.0, 1295650800.0, 1295654400.0, 1295658000.0, 1295661600.0, 1295665200.0, 1295668800.0, 1295672400.0, 1295676000.0, 1295679600.0, 1295683200.0, 1295686800.0, 1295694000.0, 1295697600.0, 1295701200.0, 1295704800.0, 1295708400.0, 1295712000.0, 1295715600.0, 1295719200.0, 1295722800.0, 1295726400.0, 1295730000.0, 1295733600.0, 1295737200.0, 1295740800.0, 1295744400.0, 1295748000.0, 1295751600.0, 1295755200.0, 1295758800.0, 1295762400.0, 1295766000.0, 1295769600.0, 1295776800.0, 1295780400.0, 1295784000.0, 1295787600.0, 1295791200.0, 1295794800.0, 1295798400.0, 1295802000.0, 1295805600.0, 1295809200.0, 1295812800.0, 1295816400.0, 1295820000.0, 1295823600.0, 1295827200.0, 1295830800.0, 1295834400.0, 1295838000.0, 1295841600.0, 1295845200.0, 1295848800.0, 1295856000.0, 1295859600.0, 1295863200.0, 1295866800.0]\n"
     ]
    }
   ],
   "source": [
    "timestampListTEST = []\n",
    "for i in test['datetime']:\n",
    "    ts = time.strptime(i, \"%Y-%m-%d %H:%M:%S\")\n",
    "    timestampListTEST.append(time.mktime(ts))\n",
    "print(timestampListTEST[0:100])"
   ]
  },
  {
   "cell_type": "markdown",
   "id": "dfb6e9fb",
   "metadata": {},
   "source": [
    "## Modifying the datetime columns with new data form."
   ]
  },
  {
   "cell_type": "code",
   "execution_count": 5,
   "id": "d9f7715d",
   "metadata": {},
   "outputs": [
    {
     "name": "stdout",
     "output_type": "stream",
     "text": [
      "           datetime  season  holiday  workingday  weather   temp   atemp  \\\n",
      "0      1.293858e+09       1        0           0        1   9.84  14.395   \n",
      "1      1.293862e+09       1        0           0        1   9.02  13.635   \n",
      "2      1.293865e+09       1        0           0        1   9.02  13.635   \n",
      "3      1.293869e+09       1        0           0        1   9.84  14.395   \n",
      "4      1.293872e+09       1        0           0        1   9.84  14.395   \n",
      "...             ...     ...      ...         ...      ...    ...     ...   \n",
      "10881  1.355962e+09       4        0           1        1  15.58  19.695   \n",
      "10882  1.355965e+09       4        0           1        1  14.76  17.425   \n",
      "10883  1.355969e+09       4        0           1        1  13.94  15.910   \n",
      "10884  1.355972e+09       4        0           1        1  13.94  17.425   \n",
      "10885  1.355976e+09       4        0           1        1  13.12  16.665   \n",
      "\n",
      "       humidity  windspeed  casual  registered  count  \n",
      "0            81     0.0000       3          13     16  \n",
      "1            80     0.0000       8          32     40  \n",
      "2            80     0.0000       5          27     32  \n",
      "3            75     0.0000       3          10     13  \n",
      "4            75     0.0000       0           1      1  \n",
      "...         ...        ...     ...         ...    ...  \n",
      "10881        50    26.0027       7         329    336  \n",
      "10882        57    15.0013      10         231    241  \n",
      "10883        61    15.0013       4         164    168  \n",
      "10884        61     6.0032      12         117    129  \n",
      "10885        66     8.9981       4          84     88  \n",
      "\n",
      "[10886 rows x 12 columns]\n",
      "          datetime  season  holiday  workingday  weather   temp   atemp  \\\n",
      "0     1.295500e+09       1        0           1        1  10.66  11.365   \n",
      "1     1.295503e+09       1        0           1        1  10.66  13.635   \n",
      "2     1.295507e+09       1        0           1        1  10.66  13.635   \n",
      "3     1.295510e+09       1        0           1        1  10.66  12.880   \n",
      "4     1.295514e+09       1        0           1        1  10.66  12.880   \n",
      "...            ...     ...      ...         ...      ...    ...     ...   \n",
      "6488  1.356998e+09       1        0           1        2  10.66  12.880   \n",
      "6489  1.357002e+09       1        0           1        2  10.66  12.880   \n",
      "6490  1.357006e+09       1        0           1        1  10.66  12.880   \n",
      "6491  1.357009e+09       1        0           1        1  10.66  13.635   \n",
      "6492  1.357013e+09       1        0           1        1  10.66  13.635   \n",
      "\n",
      "      humidity  windspeed  \n",
      "0           56    26.0027  \n",
      "1           56     0.0000  \n",
      "2           56     0.0000  \n",
      "3           56    11.0014  \n",
      "4           56    11.0014  \n",
      "...        ...        ...  \n",
      "6488        60    11.0014  \n",
      "6489        60    11.0014  \n",
      "6490        60    11.0014  \n",
      "6491        56     8.9981  \n",
      "6492        65     8.9981  \n",
      "\n",
      "[6493 rows x 9 columns]\n"
     ]
    }
   ],
   "source": [
    "train['datetime'] = timestampListTRAIN\n",
    "print(train)\n",
    "test['datetime'] = timestampListTEST\n",
    "print(test)"
   ]
  },
  {
   "cell_type": "markdown",
   "id": "485f7604",
   "metadata": {},
   "source": [
    "# Storing Row Data from Test Dataset into a List Variable"
   ]
  },
  {
   "cell_type": "code",
   "execution_count": 6,
   "id": "7468e1a3",
   "metadata": {},
   "outputs": [],
   "source": [
    "CumRowData = []\n",
    "for index, row in test.iterrows():\n",
    "    rowDataList = []\n",
    "    for data in row:\n",
    "        rowDataList.append(data)\n",
    "    CumRowData.append(rowDataList)\n",
    "# CumRowData contains an array of arrays consisting of data from individual rows within the test dataset."
   ]
  },
  {
   "cell_type": "markdown",
   "id": "9e9684c7",
   "metadata": {},
   "source": [
    "# Defining Parameters for Training the Model and Engaging the Model"
   ]
  },
  {
   "cell_type": "code",
   "execution_count": 7,
   "id": "9b76cc7f",
   "metadata": {},
   "outputs": [
    {
     "data": {
      "text/plain": [
       "DecisionTreeClassifier()"
      ]
     },
     "execution_count": 7,
     "metadata": {},
     "output_type": "execute_result"
    }
   ],
   "source": [
    "X = train.drop(columns=['casual','registered','count'])\n",
    "y = train['count']\n",
    "model = DecisionTreeClassifier()\n",
    "model.fit(X, y)"
   ]
  },
  {
   "cell_type": "markdown",
   "id": "a7539223",
   "metadata": {},
   "source": [
    "# Running the Model on Test Data for Final Predictions"
   ]
  },
  {
   "cell_type": "code",
   "execution_count": 8,
   "id": "fe1b7d78",
   "metadata": {},
   "outputs": [
    {
     "name": "stdout",
     "output_type": "stream",
     "text": [
      "[  2  27  27 ...  15 106 106]\n"
     ]
    }
   ],
   "source": [
    "predictions = model.predict(CumRowData)\n",
    "print(predictions)"
   ]
  }
 ],
 "metadata": {
  "kernelspec": {
   "display_name": "Python 3 (ipykernel)",
   "language": "python",
   "name": "python3"
  },
  "language_info": {
   "codemirror_mode": {
    "name": "ipython",
    "version": 3
   },
   "file_extension": ".py",
   "mimetype": "text/x-python",
   "name": "python",
   "nbconvert_exporter": "python",
   "pygments_lexer": "ipython3",
   "version": "3.9.7"
  }
 },
 "nbformat": 4,
 "nbformat_minor": 5
}
